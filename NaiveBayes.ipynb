{
 "cells": [
  {
   "cell_type": "markdown",
   "metadata": {},
   "source": [
    "# Naive Bayes (the easy way)"
   ]
  },
  {
   "cell_type": "markdown",
   "source": [
    "Prepare data set (can be skipped, it is already there, see source folder)"
   ],
   "metadata": {
    "collapsed": false
   }
  },
  {
   "cell_type": "code",
   "execution_count": 2,
   "outputs": [],
   "source": [
    "import os\n",
    "import shutil\n",
    "\n",
    "source_root = '/Users/apismenskiy/git'\n",
    "directory_path = os.path.join(source_root, 'source')\n",
    "output_path = 'source'\n",
    "java_path = os.path.join(output_path, 'java')\n",
    "cpp_path = os.path.join(output_path, 'cpp')\n",
    "scala_path = os.path.join(output_path, 'scala')\n",
    "js_path = os.path.join(output_path, 'javascript')\n",
    "py_path = os.path.join(output_path, 'python')\n",
    "text_path = os.path.join(output_path, 'plaintext')\n",
    "\n",
    "# we can use this code to create a new data sets if we want to rebuild the model\n",
    "# def find_files_with_extension(directory, extension):\n",
    "#     file_list = []\n",
    "# \n",
    "#     for root, dirs, files in os.walk(directory):\n",
    "#         for file in files:\n",
    "#             if file.endswith(extension):\n",
    "#                 file_list.append(os.path.join(root, file))\n",
    "# \n",
    "#     return file_list\n",
    "\n",
    "# def create_and_move_files(directory, extension, output_folder_name):\n",
    "#     found_files = find_files_with_extension(directory, extension)\n",
    "# \n",
    "#     if not found_files:\n",
    "#         print(f\"No files with '{extension}' extension found in the specified directory.\")\n",
    "#         return\n",
    "# \n",
    "#     if not os.path.exists(output_folder_name):\n",
    "#         os.makedirs(output_folder_name)\n",
    "#         print(f\"Created folder '{output_folder_name}' to store files.\")\n",
    "# \n",
    "#     for file_path in found_files:\n",
    "#         new_file_path = os.path.join(output_folder_name, os.path.basename(file_path))\n",
    "#         shutil.move(file_path, new_file_path)\n",
    "#         print(f\"Moved '{file_path}' to '{new_file_path}'\")\n",
    "\n",
    "\n",
    "\n",
    "# create_and_move_files(os.path.join(source_root, 'tika'), 'java', java_path)\n",
    "# create_and_move_files(os.path.join(source_root, 'tesseract'), 'cpp', cpp_path)\n",
    "# create_and_move_files(os.path.join(source_root, 'playframework'), 'scala', scala_path)\n",
    "# create_and_move_files(os.path.join(source_root, 'jquery'), 'js', js_path)\n",
    "# create_and_move_files(os.path.join(source_root, 'scikit-learn'), 'py', py_path)\n"
   ],
   "metadata": {
    "collapsed": false,
    "ExecuteTime": {
     "end_time": "2023-08-29T22:39:35.729832Z",
     "start_time": "2023-08-29T22:39:35.724491Z"
    }
   }
  },
  {
   "cell_type": "markdown",
   "source": [
    "We'll cheat by using sklearn.naive_bayes to train a source code classifier! Most of the code is just loading our training data into a pandas DataFrame that we can play with:"
   ],
   "metadata": {
    "collapsed": false
   }
  },
  {
   "cell_type": "code",
   "execution_count": 95,
   "metadata": {
    "ExecuteTime": {
     "end_time": "2023-08-30T02:50:39.382877Z",
     "start_time": "2023-08-30T02:50:37.110295Z"
    }
   },
   "outputs": [],
   "source": [
    "import os\n",
    "import io\n",
    "import pandas as pd\n",
    "from pandas import DataFrame\n",
    "from sklearn.feature_extraction.text import CountVectorizer\n",
    "from sklearn.naive_bayes import MultinomialNB\n",
    "from sklearn.model_selection import train_test_split\n",
    "import re\n",
    "\n",
    "def remove_comments(code):\n",
    "    # Remove single-line comments starting with \"//\" or \"#\"\n",
    "    code = re.sub(r'(\\/\\/[^\\n]*|#[^\\n]*)', '', code)\n",
    "\n",
    "    # Remove multi-line comments enclosed within '/*' and '*/'\n",
    "    code = re.sub(r'\\/\\*[\\s\\S]*?\\*\\/', '', code)\n",
    "\n",
    "    return code\n",
    "\n",
    "def readFiles(path):\n",
    "    for root, dirnames, filenames in os.walk(path):\n",
    "        for filename in filenames:\n",
    "            path = os.path.join(root, filename)\n",
    "\n",
    "            inBody = False\n",
    "            lines = []\n",
    "            f = io.open(path, 'r', encoding='latin1')\n",
    "            for line in f:\n",
    "                if inBody:\n",
    "                    lines.append(line)\n",
    "                elif line == '\\n':\n",
    "                    inBody = True\n",
    "            f.close()\n",
    "            message = '\\n'.join(lines)\n",
    "            # remove comments\n",
    "            # todo in the real world we may need to add more robust logic for tokenization\n",
    "            # ie for prgramming languages we want to exclude string and numeric literals, names (field, method, variables) etc and may be leave types, operands,  braces, brackets, spaces and reserved words? \n",
    "            message = remove_comments(message)\n",
    "            yield path, message\n",
    "\n",
    "\n",
    "def dataFrameFromDirectory(path, classification):\n",
    "    rows = []\n",
    "    index = []\n",
    "    for filename, message in readFiles(path):\n",
    "        rows.append({'message': message, 'class': classification})\n",
    "        index.append(filename)\n",
    "\n",
    "    return DataFrame(rows, index=index)\n",
    "\n",
    "data = DataFrame({'message': [], 'class': []})\n",
    "\n",
    "data = pd.concat([data, dataFrameFromDirectory(cpp_path, \"cpp\")])\n",
    "data = pd.concat([data, dataFrameFromDirectory(java_path, \"java\")])\n",
    "data = pd.concat([data, dataFrameFromDirectory(js_path, \"javascript\")])\n",
    "data = pd.concat([data, dataFrameFromDirectory(py_path, \"python\")])\n",
    "data = pd.concat([data, dataFrameFromDirectory(scala_path, \"scala\")])\n",
    "data = pd.concat([data, dataFrameFromDirectory(text_path, \"text\")])\n",
    "\n",
    "# Split the data into training and testing sets\n",
    "train_data, test_data = train_test_split(data, test_size=0.2, random_state=42)\n"
   ]
  },
  {
   "cell_type": "markdown",
   "metadata": {},
   "source": [
    "Let's have a look at that DataFrame:"
   ]
  },
  {
   "cell_type": "code",
   "execution_count": 96,
   "metadata": {
    "ExecuteTime": {
     "end_time": "2023-08-30T02:50:42.375468Z",
     "start_time": "2023-08-30T02:50:42.354094Z"
    }
   },
   "outputs": [
    {
     "data": {
      "text/plain": "                                                                                        message  \\\nsource/java/StreamObjectHeaderEnd8bit.java    package org.apache.tika.parser.microsoft.oneno...   \nsource/java/OpenDocumentBodyHandler.java      import static org.apache.tika.sax.XHTMLContent...   \nsource/plaintext/huge_5560.txt                =American Foreign Relations=\\n\\n\\n\\n     I. Co...   \nsource/python/plot_permutation_importance.py  In this example, we will compare the impurity-...   \nsource/plaintext/huge_2069.txt                In the fresh morning air were now heard, not t...   \n\n                                               class  \nsource/java/StreamObjectHeaderEnd8bit.java      java  \nsource/java/OpenDocumentBodyHandler.java        java  \nsource/plaintext/huge_5560.txt                  text  \nsource/python/plot_permutation_importance.py  python  \nsource/plaintext/huge_2069.txt                  text  ",
      "text/html": "<div>\n<style scoped>\n    .dataframe tbody tr th:only-of-type {\n        vertical-align: middle;\n    }\n\n    .dataframe tbody tr th {\n        vertical-align: top;\n    }\n\n    .dataframe thead th {\n        text-align: right;\n    }\n</style>\n<table border=\"1\" class=\"dataframe\">\n  <thead>\n    <tr style=\"text-align: right;\">\n      <th></th>\n      <th>message</th>\n      <th>class</th>\n    </tr>\n  </thead>\n  <tbody>\n    <tr>\n      <th>source/java/StreamObjectHeaderEnd8bit.java</th>\n      <td>package org.apache.tika.parser.microsoft.oneno...</td>\n      <td>java</td>\n    </tr>\n    <tr>\n      <th>source/java/OpenDocumentBodyHandler.java</th>\n      <td>import static org.apache.tika.sax.XHTMLContent...</td>\n      <td>java</td>\n    </tr>\n    <tr>\n      <th>source/plaintext/huge_5560.txt</th>\n      <td>=American Foreign Relations=\\n\\n\\n\\n     I. Co...</td>\n      <td>text</td>\n    </tr>\n    <tr>\n      <th>source/python/plot_permutation_importance.py</th>\n      <td>In this example, we will compare the impurity-...</td>\n      <td>python</td>\n    </tr>\n    <tr>\n      <th>source/plaintext/huge_2069.txt</th>\n      <td>In the fresh morning air were now heard, not t...</td>\n      <td>text</td>\n    </tr>\n  </tbody>\n</table>\n</div>"
     },
     "execution_count": 96,
     "metadata": {},
     "output_type": "execute_result"
    }
   ],
   "source": [
    "train_data.head()"
   ]
  },
  {
   "cell_type": "code",
   "execution_count": 97,
   "outputs": [
    {
     "data": {
      "text/plain": "                                                                                 message  \\\nsource/plaintext/huge_2698.txt         \\n\\n\"And who could it be who was her confedera...   \nsource/java/AutoDetectParserTest.java  import static java.nio.charset.StandardCharset...   \nsource/plaintext/huge_2854.txt         \\n\\n=The Triumph of Industry.=--The wreck of t...   \nsource/plaintext/huge_2741.txt         _The Acts against Manufactures._--The second g...   \nsource/plaintext/huge_3643.txt         An adjutant galloped up from the fleches with ...   \n\n                                      class  \nsource/plaintext/huge_2698.txt         text  \nsource/java/AutoDetectParserTest.java  java  \nsource/plaintext/huge_2854.txt         text  \nsource/plaintext/huge_2741.txt         text  \nsource/plaintext/huge_3643.txt         text  ",
      "text/html": "<div>\n<style scoped>\n    .dataframe tbody tr th:only-of-type {\n        vertical-align: middle;\n    }\n\n    .dataframe tbody tr th {\n        vertical-align: top;\n    }\n\n    .dataframe thead th {\n        text-align: right;\n    }\n</style>\n<table border=\"1\" class=\"dataframe\">\n  <thead>\n    <tr style=\"text-align: right;\">\n      <th></th>\n      <th>message</th>\n      <th>class</th>\n    </tr>\n  </thead>\n  <tbody>\n    <tr>\n      <th>source/plaintext/huge_2698.txt</th>\n      <td>\\n\\n\"And who could it be who was her confedera...</td>\n      <td>text</td>\n    </tr>\n    <tr>\n      <th>source/java/AutoDetectParserTest.java</th>\n      <td>import static java.nio.charset.StandardCharset...</td>\n      <td>java</td>\n    </tr>\n    <tr>\n      <th>source/plaintext/huge_2854.txt</th>\n      <td>\\n\\n=The Triumph of Industry.=--The wreck of t...</td>\n      <td>text</td>\n    </tr>\n    <tr>\n      <th>source/plaintext/huge_2741.txt</th>\n      <td>_The Acts against Manufactures._--The second g...</td>\n      <td>text</td>\n    </tr>\n    <tr>\n      <th>source/plaintext/huge_3643.txt</th>\n      <td>An adjutant galloped up from the fleches with ...</td>\n      <td>text</td>\n    </tr>\n  </tbody>\n</table>\n</div>"
     },
     "execution_count": 97,
     "metadata": {},
     "output_type": "execute_result"
    }
   ],
   "source": [
    "test_data.head()"
   ],
   "metadata": {
    "collapsed": false,
    "ExecuteTime": {
     "end_time": "2023-08-30T02:50:44.522622Z",
     "start_time": "2023-08-30T02:50:44.516365Z"
    }
   }
  },
  {
   "cell_type": "markdown",
   "metadata": {},
   "source": [
    "Now we will use a CountVectorizer to split up each message into its list of words, and throw that into a MultinomialNB classifier. Call fit() and we've got a trained source code detector ready to go! It's just that easy."
   ]
  },
  {
   "cell_type": "code",
   "execution_count": 126,
   "outputs": [],
   "source": [
    "\n",
    "# Custom tokenizer that tokenizes based on braces, brackets, and spaces. Those are the most common programming characters, we want to count them as separate tokens.\n",
    "programming_chars = ['(', ')','{', '}', '[', ']', ' ', '=', '+', '-', '*', '/', '#', '!', '^', '?', '\"', \"'\", ';', '.']\n",
    "def custom_tokenizer(text):\n",
    "    tokens = []\n",
    "    current_token = \"\"\n",
    "    for char in text:\n",
    "        if char in programming_chars:\n",
    "            if current_token:\n",
    "                tokens.append(current_token)\n",
    "            tokens.append(char)\n",
    "            current_token = \"\"\n",
    "        else:\n",
    "            current_token += char\n",
    "    if current_token and len(current_token.strip()) > 0:\n",
    "        tokens.append(current_token)\n",
    "    return tokens"
   ],
   "metadata": {
    "collapsed": false,
    "ExecuteTime": {
     "end_time": "2023-08-30T02:59:30.773733Z",
     "start_time": "2023-08-30T02:59:30.758776Z"
    }
   }
  },
  {
   "cell_type": "code",
   "execution_count": 127,
   "metadata": {
    "ExecuteTime": {
     "end_time": "2023-08-30T02:59:48.363670Z",
     "start_time": "2023-08-30T02:59:36.200413Z"
    }
   },
   "outputs": [
    {
     "name": "stderr",
     "output_type": "stream",
     "text": [
      "/Users/apismenskiy/anaconda3/lib/python3.10/site-packages/sklearn/feature_extraction/text.py:528: UserWarning: The parameter 'token_pattern' will not be used since 'tokenizer' is not None'\n",
      "  warnings.warn(\n"
     ]
    },
    {
     "data": {
      "text/plain": "MultinomialNB()",
      "text/html": "<style>#sk-container-id-12 {color: black;background-color: white;}#sk-container-id-12 pre{padding: 0;}#sk-container-id-12 div.sk-toggleable {background-color: white;}#sk-container-id-12 label.sk-toggleable__label {cursor: pointer;display: block;width: 100%;margin-bottom: 0;padding: 0.3em;box-sizing: border-box;text-align: center;}#sk-container-id-12 label.sk-toggleable__label-arrow:before {content: \"▸\";float: left;margin-right: 0.25em;color: #696969;}#sk-container-id-12 label.sk-toggleable__label-arrow:hover:before {color: black;}#sk-container-id-12 div.sk-estimator:hover label.sk-toggleable__label-arrow:before {color: black;}#sk-container-id-12 div.sk-toggleable__content {max-height: 0;max-width: 0;overflow: hidden;text-align: left;background-color: #f0f8ff;}#sk-container-id-12 div.sk-toggleable__content pre {margin: 0.2em;color: black;border-radius: 0.25em;background-color: #f0f8ff;}#sk-container-id-12 input.sk-toggleable__control:checked~div.sk-toggleable__content {max-height: 200px;max-width: 100%;overflow: auto;}#sk-container-id-12 input.sk-toggleable__control:checked~label.sk-toggleable__label-arrow:before {content: \"▾\";}#sk-container-id-12 div.sk-estimator input.sk-toggleable__control:checked~label.sk-toggleable__label {background-color: #d4ebff;}#sk-container-id-12 div.sk-label input.sk-toggleable__control:checked~label.sk-toggleable__label {background-color: #d4ebff;}#sk-container-id-12 input.sk-hidden--visually {border: 0;clip: rect(1px 1px 1px 1px);clip: rect(1px, 1px, 1px, 1px);height: 1px;margin: -1px;overflow: hidden;padding: 0;position: absolute;width: 1px;}#sk-container-id-12 div.sk-estimator {font-family: monospace;background-color: #f0f8ff;border: 1px dotted black;border-radius: 0.25em;box-sizing: border-box;margin-bottom: 0.5em;}#sk-container-id-12 div.sk-estimator:hover {background-color: #d4ebff;}#sk-container-id-12 div.sk-parallel-item::after {content: \"\";width: 100%;border-bottom: 1px solid gray;flex-grow: 1;}#sk-container-id-12 div.sk-label:hover label.sk-toggleable__label {background-color: #d4ebff;}#sk-container-id-12 div.sk-serial::before {content: \"\";position: absolute;border-left: 1px solid gray;box-sizing: border-box;top: 0;bottom: 0;left: 50%;z-index: 0;}#sk-container-id-12 div.sk-serial {display: flex;flex-direction: column;align-items: center;background-color: white;padding-right: 0.2em;padding-left: 0.2em;position: relative;}#sk-container-id-12 div.sk-item {position: relative;z-index: 1;}#sk-container-id-12 div.sk-parallel {display: flex;align-items: stretch;justify-content: center;background-color: white;position: relative;}#sk-container-id-12 div.sk-item::before, #sk-container-id-12 div.sk-parallel-item::before {content: \"\";position: absolute;border-left: 1px solid gray;box-sizing: border-box;top: 0;bottom: 0;left: 50%;z-index: -1;}#sk-container-id-12 div.sk-parallel-item {display: flex;flex-direction: column;z-index: 1;position: relative;background-color: white;}#sk-container-id-12 div.sk-parallel-item:first-child::after {align-self: flex-end;width: 50%;}#sk-container-id-12 div.sk-parallel-item:last-child::after {align-self: flex-start;width: 50%;}#sk-container-id-12 div.sk-parallel-item:only-child::after {width: 0;}#sk-container-id-12 div.sk-dashed-wrapped {border: 1px dashed gray;margin: 0 0.4em 0.5em 0.4em;box-sizing: border-box;padding-bottom: 0.4em;background-color: white;}#sk-container-id-12 div.sk-label label {font-family: monospace;font-weight: bold;display: inline-block;line-height: 1.2em;}#sk-container-id-12 div.sk-label-container {text-align: center;}#sk-container-id-12 div.sk-container {/* jupyter's `normalize.less` sets `[hidden] { display: none; }` but bootstrap.min.css set `[hidden] { display: none !important; }` so we also need the `!important` here to be able to override the default hidden behavior on the sphinx rendered scikit-learn.org. See: https://github.com/scikit-learn/scikit-learn/issues/21755 */display: inline-block !important;position: relative;}#sk-container-id-12 div.sk-text-repr-fallback {display: none;}</style><div id=\"sk-container-id-12\" class=\"sk-top-container\"><div class=\"sk-text-repr-fallback\"><pre>MultinomialNB()</pre><b>In a Jupyter environment, please rerun this cell to show the HTML representation or trust the notebook. <br />On GitHub, the HTML representation is unable to render, please try loading this page with nbviewer.org.</b></div><div class=\"sk-container\" hidden><div class=\"sk-item\"><div class=\"sk-estimator sk-toggleable\"><input class=\"sk-toggleable__control sk-hidden--visually\" id=\"sk-estimator-id-12\" type=\"checkbox\" checked><label for=\"sk-estimator-id-12\" class=\"sk-toggleable__label sk-toggleable__label-arrow\">MultinomialNB</label><div class=\"sk-toggleable__content\"><pre>MultinomialNB()</pre></div></div></div></div></div>"
     },
     "execution_count": 127,
     "metadata": {},
     "output_type": "execute_result"
    }
   ],
   "source": [
    "vectorizer = CountVectorizer(tokenizer=custom_tokenizer)\n",
    "#vectorizer = CountVectorizer()\n",
    "counts = vectorizer.fit_transform(train_data['message'].values)\n",
    "\n",
    "classifier = MultinomialNB()\n",
    "targets = train_data['class'].values\n",
    "classifier.fit(counts, targets)"
   ]
  },
  {
   "cell_type": "code",
   "execution_count": 128,
   "outputs": [],
   "source": [
    "# Example text\n",
    "# text = \" Math.round(Math.random() * 250)\"\n",
    "# \n",
    "# # Fit and transform using the custom tokenizer\n",
    "# X = vectorizer.fit_transform([text])\n",
    "# \n",
    "# # Resulting vocabulary and matrix\n",
    "# print(vectorizer.get_feature_names_out())\n",
    "# print(X.toarray())"
   ],
   "metadata": {
    "collapsed": false,
    "ExecuteTime": {
     "end_time": "2023-08-30T02:59:49.931104Z",
     "start_time": "2023-08-30T02:59:49.924638Z"
    }
   }
  },
  {
   "cell_type": "markdown",
   "metadata": {},
   "source": [
    "Let's try it out:"
   ]
  },
  {
   "cell_type": "code",
   "execution_count": 129,
   "outputs": [],
   "source": [
    "test_messages = vectorizer.transform(test_data['message'].values)\n",
    "predictions = classifier.predict(test_messages)"
   ],
   "metadata": {
    "collapsed": false,
    "ExecuteTime": {
     "end_time": "2023-08-30T02:59:55.416215Z",
     "start_time": "2023-08-30T02:59:52.634795Z"
    }
   }
  },
  {
   "cell_type": "markdown",
   "source": [
    "And check the accuracy:"
   ],
   "metadata": {
    "collapsed": false
   }
  },
  {
   "cell_type": "code",
   "execution_count": 130,
   "outputs": [
    {
     "name": "stdout",
     "output_type": "stream",
     "text": [
      "Accuracy: 0.9952558454761098\n",
      "Precision: 0.995218550678817\n",
      "Recall: 0.9952558454761098\n",
      "F1-Score: 0.9951118386216987\n",
      "Confusion Matrix:\n",
      " [[  60    0    0    1    0    0]\n",
      " [   0  323    0    0    0    0]\n",
      " [   0    0   30    0    2    6]\n",
      " [   0    0    0  160    0    0]\n",
      " [   0    0    0    0  143    1]\n",
      " [   0    0    1    1    2 2221]]\n"
     ]
    }
   ],
   "source": [
    "from sklearn.metrics import accuracy_score, precision_score, recall_score, f1_score, confusion_matrix\n",
    "\n",
    "true_labels = test_data['class'].values\n",
    "accuracy = accuracy_score(true_labels, predictions)\n",
    "print(\"Accuracy:\", accuracy)\n",
    "\n",
    "# Calculate precision, recall, and F1-score\n",
    "precision = precision_score(true_labels, predictions, average='weighted')\n",
    "recall = recall_score(true_labels, predictions, average='weighted')\n",
    "f1 = f1_score(true_labels, predictions, average='weighted')\n",
    "\n",
    "print(\"Precision:\", precision)\n",
    "print(\"Recall:\", recall)\n",
    "print(\"F1-Score:\", f1)\n",
    "\n",
    "# Create a confusion matrix\n",
    "conf_matrix = confusion_matrix(true_labels, predictions)\n",
    "print(\"Confusion Matrix:\\n\", conf_matrix)\n"
   ],
   "metadata": {
    "collapsed": false,
    "ExecuteTime": {
     "end_time": "2023-08-30T02:59:57.960190Z",
     "start_time": "2023-08-30T02:59:57.931751Z"
    }
   }
  },
  {
   "cell_type": "code",
   "execution_count": 131,
   "metadata": {
    "ExecuteTime": {
     "end_time": "2023-08-30T03:00:04.265645Z",
     "start_time": "2023-08-30T03:00:04.255229Z"
    }
   },
   "outputs": [
    {
     "data": {
      "text/plain": "array(['scala', 'java', 'python', 'cpp', 'java', 'text'], dtype='<U10')"
     },
     "execution_count": 131,
     "metadata": {},
     "output_type": "execute_result"
    }
   ],
   "source": [
    "examples = [\n",
    "    # scala\n",
    "    '''package org.threeten.bp\n",
    "\n",
    "import java.util.NavigableMap\n",
    "import org.threeten.bp.zone.ZoneMap\n",
    "\n",
    "object Platform {\n",
    "type NPE = NullPointerException\n",
    "type DFE = IndexOutOfBoundsException\n",
    "type CCE = ClassCastException\n",
    "\n",
    "/**\n",
    "* Returns `true` if and only if the code is executing on a JVM. Note: Returns `false` when\n",
    "* executing on any JS VM.\n",
    "*/\n",
    "final val executingInJVM = true\n",
    "\n",
    "def setupLocales(): Unit = {}\n",
    "\n",
    "def zoneMap(m: scala.collection.immutable.TreeMap[Int, String]): NavigableMap[Int, String] =\n",
    "ZoneMap(m)\n",
    "}''',\n",
    "    # java\n",
    "    ''' public static void run() {\n",
    "\n",
    "ProfileCredentialsProvider awsCredentialsProvider = ProfileCredentialsProvider.create();\n",
    "\n",
    "CLIENT = TextractClient.builder()\n",
    "        .region(region)\n",
    "        .credentialsProvider(awsCredentialsProvider)\n",
    "        .build();\n",
    "\n",
    "String absolutePath = getAbsolutePath();\n",
    "CATEGORIES.forEach(category -> {\n",
    "\n",
    "    String path = absolutePath + DLMTR + DATA_ROOT + DLMTR + category;\n",
    "    Set<Path> ocrFiles = getOcrFiles(path);\n",
    "    System.out.println(path + \": Found image files: \" + ocrFiles);''',\n",
    "    # python\n",
    "    '''class Polygon:\n",
    "    def sides_no(self):\n",
    "        pass\n",
    "\n",
    "class Triangle(Polygon):\n",
    "    def area(self):\n",
    "        pass\n",
    "\n",
    "obj_polygon = Polygon()\n",
    "obj_triangle = Triangle()\n",
    "\n",
    "print(type(obj_triangle) == Triangle)   \t# true\n",
    "print(type(obj_triangle) == Polygon)    \t# false\n",
    "\n",
    "print(isinstance(obj_polygon, Polygon)) \t# true\n",
    "print(isinstance(obj_triangle, Polygon))\t# true''',\n",
    "\n",
    "    # cpp\n",
    "    '''#include <iostream>\n",
    "    #include <iostream>\n",
    "using namespace std;\n",
    "\n",
    "int main() {\n",
    "int n;\n",
    "\n",
    "cout << \"Enter an integer: \";\n",
    "cin >> n;\n",
    "\n",
    "if ( n % 2 == 0)\n",
    "cout << n << \" is even.\";\n",
    "else\n",
    "cout << n << \" is odd.\";\n",
    "\n",
    "return 0;\n",
    "}''',\n",
    "\n",
    "# javascript\n",
    "'''\n",
    "console.log(\"Hello World\");\n",
    "\n",
    "var canvas = document.getElementById(\"canvas\");\n",
    "var c = canvas.getContext(\"2d\");\n",
    "var tx = window.innerWidth;\n",
    "var ty = window.innerHeight;\n",
    "canvas.width = tx;\n",
    "canvas.height = ty;\n",
    "//c.lineWidth= 5;\n",
    "//c.globalAlpha = 0.5;\n",
    "\n",
    "var mousex = 0;\n",
    "var mousey = 0;\n",
    "\n",
    "addEventListener(\"mousemove\", function() {\n",
    "  mousex = event.clientX;\n",
    "  mousey = event.clientY;\n",
    "});\n",
    "\n",
    "\n",
    "var grav = 0.99;\n",
    "c.strokeWidth=5;\n",
    "function randomColor() {\n",
    "  return (\n",
    "    \"rgba(\" +\n",
    "    Math.round(Math.random() * 250) +\n",
    "    \",\" +\n",
    "    Math.round(Math.random() * 250) +\n",
    "    \",\" +\n",
    "    Math.round(Math.random() * 250) +\n",
    "    \",\" +\n",
    "    Math.ceil(Math.random() * 10) / 10 +\n",
    "    \")\"\n",
    "  );\n",
    "}\n",
    "\n",
    "\n",
    "''',\n",
    "# plain text\n",
    "            '''World War II or the Second World War, often abbreviated as WWII or WW2, was a global conflict lasted from 1939 to 1945. The vast majority of the world's countries, including all of the great powers, fought as part of two opposing military alliances: the Allies and the Axis. Many participants threw their economic, industrial, and scientific capabilities behind this total war, blurring the distinction between civilian and military resources. Aircraft played a major role, enabling the strategic bombing of population centres and the delivery of the only two nuclear weapons ever used in war. World War II was by far the deadliest conflict in history, resulting in an estimated 70 to 85 million fatalities, mostly among civilians. Tens of millions died due to genocides (including the Holocaust), starvation, massacres, and disease. In the wake of the Axis defeat, Germany and Japan were occupied, and war crimes tribunals were conducted against German and Japanese leaders.'''\n",
    "            ]\n",
    "example_counts = vectorizer.transform(examples)\n",
    "predictions = classifier.predict(example_counts)\n",
    "predictions"
   ]
  },
  {
   "cell_type": "code",
   "execution_count": 137,
   "outputs": [
    {
     "data": {
      "text/plain": "array(['python', 'java', 'java', 'text', 'scala', 'scala', 'text'],\n      dtype='<U10')"
     },
     "execution_count": 137,
     "metadata": {},
     "output_type": "execute_result"
    }
   ],
   "source": [
    "e = [\n",
    "    # some text mixed with code\n",
    "    # python\n",
    "    '''\n",
    "    Python Scope\n",
    "A variable is only available from inside the region it is created. This is called scope.\n",
    "\n",
    "Local Scope\n",
    "A variable created inside a function belongs to the local scope of that function, and can only be used inside that function.\n",
    "\n",
    "ExampleGet your own Python Server\n",
    "A variable created inside a function is available inside that function:\n",
    "\n",
    "def myfunc():\n",
    "  x = 300\n",
    "  print(x)\n",
    "\n",
    "myfunc()\n",
    "Function Inside Function\n",
    "As explained in the example above, the variable x is not available outside the function, but it is available for any function inside the function:\n",
    "    ''', \n",
    "    #java\n",
    "'''\n",
    "Read a File\n",
    "In the previous chapter, you learned how to create and write to a file.\n",
    "\n",
    "In the following example, we use the Scanner class to read the contents of the text file we created in the previous chapter:\n",
    "\n",
    "ExampleGet your own Java Server\n",
    "import java.io.File;  // Import the File class\n",
    "import java.io.FileNotFoundException;  // Import this class to handle errors\n",
    "import java.util.Scanner; // Import the Scanner class to read text files\n",
    "\n",
    "public class ReadFile {\n",
    "  public static void main(String[] args) {\n",
    "    try {\n",
    "      File myObj = new File(\"filename.txt\");\n",
    "      Scanner myReader = new Scanner(myObj);\n",
    "      while (myReader.hasNextLine()) {\n",
    "        String data = myReader.nextLine();\n",
    "        System.out.println(data);\n",
    "      }\n",
    "      myReader.close();\n",
    "    } catch (FileNotFoundException e) {\n",
    "      System.out.println(\"An error occurred.\");\n",
    "      e.printStackTrace();\n",
    "    }\n",
    "  }\n",
    "}\n",
    "The output will be:\n",
    "\n",
    "Files in Java might be tricky, but it is fun enough!\n",
    "''', \n",
    "    #javascript\n",
    "'''Example\n",
    "Errors Will Happen!\n",
    "When executing JavaScript code, different errors can occur.\n",
    "\n",
    "Errors can be coding errors made by the programmer, errors due to wrong input, and other unforeseeable things.\n",
    "\n",
    "Example\n",
    "In this example we misspelled \"alert\" as \"adddlert\" to deliberately produce an error:\n",
    "\n",
    "let historybutton = document.getElementById('historybutton');\n",
    "let history = document.getElementById('history');\n",
    "let bar1 = document.getElementById('bar1');\n",
    "let bar2 = document.getElementById('bar2');\n",
    "let dis=document.getElementById('answer');\n",
    "\n",
    "function showHistory() {\n",
    "    let calcHistory = JSON.parse(localStorage.getItem(\"calcHistory\")) || [];\n",
    "    let len = calcHistory.length;\n",
    "\n",
    "    history.innerHTML = '';\n",
    "\n",
    "\n",
    "    bar1.style.display = 'block';\n",
    "    bar2.style.display = 'block';\n",
    "''', \n",
    "# text \n",
    "    '''In the realm of probabilities, where mysteries reside,\n",
    "Lies a theorem elegant, with secrets to confide.\n",
    "It's the wisdom of Bayes, a noble guide,\n",
    "To discern truth's path, where uncertainties hide.\n",
    "\n",
    "In the heart of data, where chaos takes its toll,\n",
    "Bayes' theorem unfolds, like a story to extol.\n",
    "It starts with a prior, a belief from days of old,\n",
    "Then updates with evidence, as the story's told.\n",
    "\n",
    "Posterior probabilities, the theorem does reveal,\n",
    "They're the answers we seek, with a truth to seal.\n",
    "With each new observation, the truth becomes ideal,\n",
    "Bayesian inference, a powerful, robust ordeal.\n",
    "\n",
    "Conditional probabilities, like threads in a weave,\n",
    "Bayes' theorem connects them, so we may perceive,\n",
    "How beliefs evolve, as new data does achieve,\n",
    "A rational framework, for our minds to believe.\n",
    "\n",
    "In medical diagnosis or in weather's forecast,\n",
    "In spam email detection, or stock market amassed,\n",
    "Bayes' theorem shines, as a beacon unsurpassed,\n",
    "Guiding us through uncertainty, from first to the last.\n",
    "\n",
    "So let us raise a toast to Bayes' timeless grace,\n",
    "In the world of probabilities, it finds its place.\n",
    "With evidence and reason, it helps us embrace,\n",
    "The art of making decisions in this complex space.\n",
    "\n",
    "In the realm of numbers, where doubt may appear,\n",
    "Bayes' theorem stands strong, removing our fear.\n",
    "With its Bayesian insight, crystal clear,\n",
    "We navigate life's uncertainties, drawing near.''', \n",
    "    'hello world',\n",
    "    'we use scala to write code', \n",
    "    'python is a great programming language',\n",
    "   ]\n",
    "\n",
    "e2c = vectorizer.transform(e)\n",
    "p = classifier.predict(e2c)\n",
    "p"
   ],
   "metadata": {
    "collapsed": false,
    "ExecuteTime": {
     "end_time": "2023-08-30T03:04:23.550214Z",
     "start_time": "2023-08-30T03:04:23.543189Z"
    }
   }
  },
  {
   "cell_type": "code",
   "execution_count": null,
   "outputs": [],
   "source": [],
   "metadata": {
    "collapsed": false
   }
  }
 ],
 "metadata": {
  "kernelspec": {
   "display_name": "Python 3 (ipykernel)",
   "language": "python",
   "name": "python3"
  },
  "language_info": {
   "codemirror_mode": {
    "name": "ipython",
    "version": 3
   },
   "file_extension": ".py",
   "mimetype": "text/x-python",
   "name": "python",
   "nbconvert_exporter": "python",
   "pygments_lexer": "ipython3",
   "version": "3.8.5"
  }
 },
 "nbformat": 4,
 "nbformat_minor": 1
}
