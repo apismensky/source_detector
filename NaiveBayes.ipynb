{
 "cells": [
  {
   "cell_type": "markdown",
   "metadata": {},
   "source": [
    "# Naive Bayes (the easy way)"
   ]
  },
  {
   "cell_type": "markdown",
   "source": [
    "Prepare data set (can be skipped, it is already there)"
   ],
   "metadata": {
    "collapsed": false
   }
  },
  {
   "cell_type": "code",
   "execution_count": 4,
   "outputs": [
    {
     "name": "stdout",
     "output_type": "stream",
     "text": [
      "No files with 'java' extension found in the specified directory.\n",
      "No files with 'cpp' extension found in the specified directory.\n",
      "No files with 'scala' extension found in the specified directory.\n",
      "No files with 'js' extension found in the specified directory.\n",
      "No files with 'py' extension found in the specified directory.\n"
     ]
    }
   ],
   "source": [
    "import os\n",
    "import shutil\n",
    "\n",
    "source_root = '/Users/apismenskiy/git'\n",
    "directory_path = os.path.join(source_root, 'source')\n",
    "output_path = 'source'\n",
    "java_path = os.path.join(output_path, 'java')\n",
    "cpp_path = os.path.join(output_path, 'cpp')\n",
    "scala_path = os.path.join(output_path, 'scala')\n",
    "js_path = os.path.join(output_path, 'javascript')\n",
    "py_path = os.path.join(output_path, 'python')\n",
    "text_path = os.path.join(output_path, 'plaintext')\n",
    "\n",
    "def find_files_with_extension(directory, extension):\n",
    "    file_list = []\n",
    "\n",
    "    for root, dirs, files in os.walk(directory):\n",
    "        for file in files:\n",
    "            if file.endswith(extension):\n",
    "                file_list.append(os.path.join(root, file))\n",
    "\n",
    "    return file_list\n",
    "\n",
    "def create_and_move_files(directory, extension, output_folder_name):\n",
    "    found_files = find_files_with_extension(directory, extension)\n",
    "\n",
    "    if not found_files:\n",
    "        print(f\"No files with '{extension}' extension found in the specified directory.\")\n",
    "        return\n",
    "\n",
    "    if not os.path.exists(output_folder_name):\n",
    "        os.makedirs(output_folder_name)\n",
    "        print(f\"Created folder '{output_folder_name}' to store files.\")\n",
    "\n",
    "    for file_path in found_files:\n",
    "        new_file_path = os.path.join(output_folder_name, os.path.basename(file_path))\n",
    "        shutil.move(file_path, new_file_path)\n",
    "        print(f\"Moved '{file_path}' to '{new_file_path}'\")\n",
    "\n",
    "\n",
    "\n",
    "create_and_move_files(os.path.join(source_root, 'tika'), 'java', java_path)\n",
    "create_and_move_files(os.path.join(source_root, 'tesseract'), 'cpp', cpp_path)\n",
    "create_and_move_files(os.path.join(source_root, 'playframework'), 'scala', scala_path)\n",
    "create_and_move_files(os.path.join(source_root, 'jquery'), 'js', js_path)\n",
    "create_and_move_files(os.path.join(source_root, 'scikit-learn'), 'py', py_path)\n"
   ],
   "metadata": {
    "collapsed": false,
    "ExecuteTime": {
     "end_time": "2023-08-18T14:47:50.671520Z",
     "start_time": "2023-08-18T14:47:50.028136Z"
    }
   }
  },
  {
   "cell_type": "markdown",
   "source": [
    "We'll cheat by using sklearn.naive_bayes to train a source code classifier! Most of the code is just loading our training data into a pandas DataFrame that we can play with:"
   ],
   "metadata": {
    "collapsed": false
   }
  },
  {
   "cell_type": "code",
   "execution_count": 5,
   "metadata": {
    "ExecuteTime": {
     "end_time": "2023-08-18T14:50:52.713768Z",
     "start_time": "2023-08-18T14:50:48.642021Z"
    }
   },
   "outputs": [],
   "source": [
    "import os\n",
    "import io\n",
    "import numpy\n",
    "import pandas as pd\n",
    "from pandas import DataFrame\n",
    "from sklearn.feature_extraction.text import CountVectorizer\n",
    "from sklearn.naive_bayes import MultinomialNB\n",
    "\n",
    "def readFiles(path):\n",
    "    for root, dirnames, filenames in os.walk(path):\n",
    "        for filename in filenames:\n",
    "            path = os.path.join(root, filename)\n",
    "\n",
    "            inBody = False\n",
    "            lines = []\n",
    "            f = io.open(path, 'r', encoding='latin1')\n",
    "            for line in f:\n",
    "                if inBody:\n",
    "                    lines.append(line)\n",
    "                elif line == '\\n':\n",
    "                    inBody = True\n",
    "            f.close()\n",
    "            message = '\\n'.join(lines)\n",
    "            yield path, message\n",
    "\n",
    "\n",
    "def dataFrameFromDirectory(path, classification):\n",
    "    rows = []\n",
    "    index = []\n",
    "    for filename, message in readFiles(path):\n",
    "        rows.append({'message': message, 'class': classification})\n",
    "        index.append(filename)\n",
    "\n",
    "    return DataFrame(rows, index=index)\n",
    "\n",
    "data = DataFrame({'message': [], 'class': []})\n",
    "\n",
    "data = pd.concat([data, dataFrameFromDirectory(cpp_path, \"cpp\")])\n",
    "data = pd.concat([data, dataFrameFromDirectory(java_path, \"java\")])\n",
    "data = pd.concat([data, dataFrameFromDirectory(js_path, \"javascript\")])\n",
    "data = pd.concat([data, dataFrameFromDirectory(py_path, \"python\")])\n",
    "data = pd.concat([data, dataFrameFromDirectory(scala_path, \"scala\")])\n",
    "data = pd.concat([data, dataFrameFromDirectory(text_path, \"text\")])\n",
    "\n"
   ]
  },
  {
   "cell_type": "markdown",
   "metadata": {},
   "source": [
    "Let's have a look at that DataFrame:"
   ]
  },
  {
   "cell_type": "code",
   "execution_count": 13,
   "metadata": {
    "ExecuteTime": {
     "end_time": "2023-08-18T15:11:29.985282Z",
     "start_time": "2023-08-18T15:11:29.970913Z"
    }
   },
   "outputs": [
    {
     "data": {
      "text/plain": "                                                                   message  \\\nsource/cpp/permdawg.cpp  #include \"dawg.h\"\\n\\n#include \"params.h\"\\n\\n#i...   \nsource/cpp/edgblob.cpp   // Include automatically generated configurati...   \nsource/cpp/pithsync.cpp  #include \"pithsync.h\"\\n\\n\\n\\n#include \"makerow...   \nsource/cpp/picofeat.cpp  #include \"picofeat.h\"\\n\\n\\n\\n#include \"classif...   \nsource/cpp/tessvars.cpp  #include <cstdio>\\n\\n\\n\\n#include \"tessvars.h\"...   \n\n                        class  \nsource/cpp/permdawg.cpp   cpp  \nsource/cpp/edgblob.cpp    cpp  \nsource/cpp/pithsync.cpp   cpp  \nsource/cpp/picofeat.cpp   cpp  \nsource/cpp/tessvars.cpp   cpp  ",
      "text/html": "<div>\n<style scoped>\n    .dataframe tbody tr th:only-of-type {\n        vertical-align: middle;\n    }\n\n    .dataframe tbody tr th {\n        vertical-align: top;\n    }\n\n    .dataframe thead th {\n        text-align: right;\n    }\n</style>\n<table border=\"1\" class=\"dataframe\">\n  <thead>\n    <tr style=\"text-align: right;\">\n      <th></th>\n      <th>message</th>\n      <th>class</th>\n    </tr>\n  </thead>\n  <tbody>\n    <tr>\n      <th>source/cpp/permdawg.cpp</th>\n      <td>#include \"dawg.h\"\\n\\n#include \"params.h\"\\n\\n#i...</td>\n      <td>cpp</td>\n    </tr>\n    <tr>\n      <th>source/cpp/edgblob.cpp</th>\n      <td>// Include automatically generated configurati...</td>\n      <td>cpp</td>\n    </tr>\n    <tr>\n      <th>source/cpp/pithsync.cpp</th>\n      <td>#include \"pithsync.h\"\\n\\n\\n\\n#include \"makerow...</td>\n      <td>cpp</td>\n    </tr>\n    <tr>\n      <th>source/cpp/picofeat.cpp</th>\n      <td>#include \"picofeat.h\"\\n\\n\\n\\n#include \"classif...</td>\n      <td>cpp</td>\n    </tr>\n    <tr>\n      <th>source/cpp/tessvars.cpp</th>\n      <td>#include &lt;cstdio&gt;\\n\\n\\n\\n#include \"tessvars.h\"...</td>\n      <td>cpp</td>\n    </tr>\n  </tbody>\n</table>\n</div>"
     },
     "execution_count": 13,
     "metadata": {},
     "output_type": "execute_result"
    }
   ],
   "source": [
    "data.head()"
   ]
  },
  {
   "cell_type": "markdown",
   "metadata": {},
   "source": [
    "Now we will use a CountVectorizer to split up each message into its list of words, and throw that into a MultinomialNB classifier. Call fit() and we've got a trained spam filter ready to go! It's just that easy."
   ]
  },
  {
   "cell_type": "code",
   "execution_count": 14,
   "metadata": {
    "ExecuteTime": {
     "end_time": "2023-08-18T15:11:37.243730Z",
     "start_time": "2023-08-18T15:11:36.084391Z"
    }
   },
   "outputs": [
    {
     "data": {
      "text/plain": "MultinomialNB()",
      "text/html": "<style>#sk-container-id-2 {color: black;background-color: white;}#sk-container-id-2 pre{padding: 0;}#sk-container-id-2 div.sk-toggleable {background-color: white;}#sk-container-id-2 label.sk-toggleable__label {cursor: pointer;display: block;width: 100%;margin-bottom: 0;padding: 0.3em;box-sizing: border-box;text-align: center;}#sk-container-id-2 label.sk-toggleable__label-arrow:before {content: \"▸\";float: left;margin-right: 0.25em;color: #696969;}#sk-container-id-2 label.sk-toggleable__label-arrow:hover:before {color: black;}#sk-container-id-2 div.sk-estimator:hover label.sk-toggleable__label-arrow:before {color: black;}#sk-container-id-2 div.sk-toggleable__content {max-height: 0;max-width: 0;overflow: hidden;text-align: left;background-color: #f0f8ff;}#sk-container-id-2 div.sk-toggleable__content pre {margin: 0.2em;color: black;border-radius: 0.25em;background-color: #f0f8ff;}#sk-container-id-2 input.sk-toggleable__control:checked~div.sk-toggleable__content {max-height: 200px;max-width: 100%;overflow: auto;}#sk-container-id-2 input.sk-toggleable__control:checked~label.sk-toggleable__label-arrow:before {content: \"▾\";}#sk-container-id-2 div.sk-estimator input.sk-toggleable__control:checked~label.sk-toggleable__label {background-color: #d4ebff;}#sk-container-id-2 div.sk-label input.sk-toggleable__control:checked~label.sk-toggleable__label {background-color: #d4ebff;}#sk-container-id-2 input.sk-hidden--visually {border: 0;clip: rect(1px 1px 1px 1px);clip: rect(1px, 1px, 1px, 1px);height: 1px;margin: -1px;overflow: hidden;padding: 0;position: absolute;width: 1px;}#sk-container-id-2 div.sk-estimator {font-family: monospace;background-color: #f0f8ff;border: 1px dotted black;border-radius: 0.25em;box-sizing: border-box;margin-bottom: 0.5em;}#sk-container-id-2 div.sk-estimator:hover {background-color: #d4ebff;}#sk-container-id-2 div.sk-parallel-item::after {content: \"\";width: 100%;border-bottom: 1px solid gray;flex-grow: 1;}#sk-container-id-2 div.sk-label:hover label.sk-toggleable__label {background-color: #d4ebff;}#sk-container-id-2 div.sk-serial::before {content: \"\";position: absolute;border-left: 1px solid gray;box-sizing: border-box;top: 0;bottom: 0;left: 50%;z-index: 0;}#sk-container-id-2 div.sk-serial {display: flex;flex-direction: column;align-items: center;background-color: white;padding-right: 0.2em;padding-left: 0.2em;position: relative;}#sk-container-id-2 div.sk-item {position: relative;z-index: 1;}#sk-container-id-2 div.sk-parallel {display: flex;align-items: stretch;justify-content: center;background-color: white;position: relative;}#sk-container-id-2 div.sk-item::before, #sk-container-id-2 div.sk-parallel-item::before {content: \"\";position: absolute;border-left: 1px solid gray;box-sizing: border-box;top: 0;bottom: 0;left: 50%;z-index: -1;}#sk-container-id-2 div.sk-parallel-item {display: flex;flex-direction: column;z-index: 1;position: relative;background-color: white;}#sk-container-id-2 div.sk-parallel-item:first-child::after {align-self: flex-end;width: 50%;}#sk-container-id-2 div.sk-parallel-item:last-child::after {align-self: flex-start;width: 50%;}#sk-container-id-2 div.sk-parallel-item:only-child::after {width: 0;}#sk-container-id-2 div.sk-dashed-wrapped {border: 1px dashed gray;margin: 0 0.4em 0.5em 0.4em;box-sizing: border-box;padding-bottom: 0.4em;background-color: white;}#sk-container-id-2 div.sk-label label {font-family: monospace;font-weight: bold;display: inline-block;line-height: 1.2em;}#sk-container-id-2 div.sk-label-container {text-align: center;}#sk-container-id-2 div.sk-container {/* jupyter's `normalize.less` sets `[hidden] { display: none; }` but bootstrap.min.css set `[hidden] { display: none !important; }` so we also need the `!important` here to be able to override the default hidden behavior on the sphinx rendered scikit-learn.org. See: https://github.com/scikit-learn/scikit-learn/issues/21755 */display: inline-block !important;position: relative;}#sk-container-id-2 div.sk-text-repr-fallback {display: none;}</style><div id=\"sk-container-id-2\" class=\"sk-top-container\"><div class=\"sk-text-repr-fallback\"><pre>MultinomialNB()</pre><b>In a Jupyter environment, please rerun this cell to show the HTML representation or trust the notebook. <br />On GitHub, the HTML representation is unable to render, please try loading this page with nbviewer.org.</b></div><div class=\"sk-container\" hidden><div class=\"sk-item\"><div class=\"sk-estimator sk-toggleable\"><input class=\"sk-toggleable__control sk-hidden--visually\" id=\"sk-estimator-id-2\" type=\"checkbox\" checked><label for=\"sk-estimator-id-2\" class=\"sk-toggleable__label sk-toggleable__label-arrow\">MultinomialNB</label><div class=\"sk-toggleable__content\"><pre>MultinomialNB()</pre></div></div></div></div></div>"
     },
     "execution_count": 14,
     "metadata": {},
     "output_type": "execute_result"
    }
   ],
   "source": [
    "vectorizer = CountVectorizer()\n",
    "counts = vectorizer.fit_transform(data['message'].values)\n",
    "\n",
    "classifier = MultinomialNB()\n",
    "targets = data['class'].values\n",
    "classifier.fit(counts, targets)"
   ]
  },
  {
   "cell_type": "markdown",
   "metadata": {},
   "source": [
    "Let's try it out:"
   ]
  },
  {
   "cell_type": "code",
   "execution_count": 16,
   "metadata": {
    "ExecuteTime": {
     "end_time": "2023-08-18T15:15:58.572623Z",
     "start_time": "2023-08-18T15:15:58.455984Z"
    }
   },
   "outputs": [
    {
     "data": {
      "text/plain": "array(['scala', 'java', 'python', 'cpp', 'javascript', 'text'],\n      dtype='<U10')"
     },
     "execution_count": 16,
     "metadata": {},
     "output_type": "execute_result"
    }
   ],
   "source": [
    "examples = [\n",
    "    # scala\n",
    "    '''package org.threeten.bp\n",
    "\n",
    "import java.util.NavigableMap\n",
    "import org.threeten.bp.zone.ZoneMap\n",
    "\n",
    "object Platform {\n",
    "type NPE = NullPointerException\n",
    "type DFE = IndexOutOfBoundsException\n",
    "type CCE = ClassCastException\n",
    "\n",
    "/**\n",
    "* Returns `true` if and only if the code is executing on a JVM. Note: Returns `false` when\n",
    "* executing on any JS VM.\n",
    "*/\n",
    "final val executingInJVM = true\n",
    "\n",
    "def setupLocales(): Unit = {}\n",
    "\n",
    "def zoneMap(m: scala.collection.immutable.TreeMap[Int, String]): NavigableMap[Int, String] =\n",
    "ZoneMap(m)\n",
    "}''',\n",
    "    # java\n",
    "    ''' public static void run() {\n",
    "\n",
    "ProfileCredentialsProvider awsCredentialsProvider = ProfileCredentialsProvider.create();\n",
    "\n",
    "CLIENT = TextractClient.builder()\n",
    "        .region(region)\n",
    "        .credentialsProvider(awsCredentialsProvider)\n",
    "        .build();\n",
    "\n",
    "String absolutePath = getAbsolutePath();\n",
    "CATEGORIES.forEach(category -> {\n",
    "\n",
    "    String path = absolutePath + DLMTR + DATA_ROOT + DLMTR + category;\n",
    "    Set<Path> ocrFiles = getOcrFiles(path);\n",
    "    System.out.println(path + \": Found image files: \" + ocrFiles);''',\n",
    "    # python\n",
    "    '''class Polygon:\n",
    "    def sides_no(self):\n",
    "        pass\n",
    "\n",
    "class Triangle(Polygon):\n",
    "    def area(self):\n",
    "        pass\n",
    "\n",
    "obj_polygon = Polygon()\n",
    "obj_triangle = Triangle()\n",
    "\n",
    "print(type(obj_triangle) == Triangle)   \t# true\n",
    "print(type(obj_triangle) == Polygon)    \t# false\n",
    "\n",
    "print(isinstance(obj_polygon, Polygon)) \t# true\n",
    "print(isinstance(obj_triangle, Polygon))\t# true''',\n",
    "\n",
    "    # cpp\n",
    "    '''#include <iostream>\n",
    "    #include <iostream>\n",
    "using namespace std;\n",
    "\n",
    "int main() {\n",
    "int n;\n",
    "\n",
    "cout << \"Enter an integer: \";\n",
    "cin >> n;\n",
    "\n",
    "if ( n % 2 == 0)\n",
    "cout << n << \" is even.\";\n",
    "else\n",
    "cout << n << \" is odd.\";\n",
    "\n",
    "return 0;\n",
    "}''',\n",
    "\n",
    "# javascript\n",
    "'''\n",
    "console.log(\"Hello World\");\n",
    "\n",
    "var canvas = document.getElementById(\"canvas\");\n",
    "var c = canvas.getContext(\"2d\");\n",
    "var tx = window.innerWidth;\n",
    "var ty = window.innerHeight;\n",
    "canvas.width = tx;\n",
    "canvas.height = ty;\n",
    "//c.lineWidth= 5;\n",
    "//c.globalAlpha = 0.5;\n",
    "\n",
    "var mousex = 0;\n",
    "var mousey = 0;\n",
    "\n",
    "addEventListener(\"mousemove\", function() {\n",
    "  mousex = event.clientX;\n",
    "  mousey = event.clientY;\n",
    "});\n",
    "\n",
    "\n",
    "var grav = 0.99;\n",
    "c.strokeWidth=5;\n",
    "function randomColor() {\n",
    "  return (\n",
    "    \"rgba(\" +\n",
    "    Math.round(Math.random() * 250) +\n",
    "    \",\" +\n",
    "    Math.round(Math.random() * 250) +\n",
    "    \",\" +\n",
    "    Math.round(Math.random() * 250) +\n",
    "    \",\" +\n",
    "    Math.ceil(Math.random() * 10) / 10 +\n",
    "    \")\"\n",
    "  );\n",
    "}\n",
    "\n",
    "function Ball() {\n",
    "  this.color = randomColor();\n",
    "  this.radius = Math.random() * 20 + 14;\n",
    "  this.startradius = this.radius;\n",
    "  this.x = Math.random() * (tx - this.radius * 2) + this.radius;\n",
    "  this.y = Math.random() * (ty - this.radius);\n",
    "  this.dy = Math.random() * 2;\n",
    "  this.dx = Math.round((Math.random() - 0.5) * 10);\n",
    "  this.vel = Math.random() /5;\n",
    "  this.update = function() {\n",
    "    c.beginPath();\n",
    "    c.arc(this.x, this.y, this.radius, 0, 2 * Math.PI);\n",
    "    c.fillStyle = this.color;\n",
    "    c.fill();\n",
    "    //c.stroke();\n",
    "  };\n",
    "}\n",
    "\n",
    "var bal = [];\n",
    "for (var i=0; i<50; i++){\n",
    "    bal.push(new Ball());\n",
    "}\n",
    "\n",
    "function animate() {\n",
    "  if (tx != window.innerWidth || ty != window.innerHeight) {\n",
    "    tx = window.innerWidth;\n",
    "    ty = window.innerHeight;\n",
    "    canvas.width = tx;\n",
    "    canvas.height = ty;\n",
    "  }\n",
    "  requestAnimationFrame(animate);\n",
    "  c.clearRect(0, 0, tx, ty);\n",
    "  for (var i = 0; i < bal.length; i++) {\n",
    "    bal[i].update();\n",
    "    bal[i].y += bal[i].dy;\n",
    "    bal[i].x += bal[i].dx;\n",
    "    if (bal[i].y + bal[i].radius >= ty) {\n",
    "      bal[i].dy = -bal[i].dy * grav;\n",
    "    } else {\n",
    "      bal[i].dy += bal[i].vel;\n",
    "    }\n",
    "    if(bal[i].x + bal[i].radius > tx || bal[i].x - bal[i].radius < 0){\n",
    "        bal[i].dx = -bal[i].dx;\n",
    "    }\n",
    "    if(mousex > bal[i].x - 20 &&\n",
    "      mousex < bal[i].x + 20 &&\n",
    "      mousey > bal[i].y -50 &&\n",
    "      mousey < bal[i].y +50 &&\n",
    "      bal[i].radius < 70){\n",
    "        //bal[i].x += +1;\n",
    "        bal[i].radius +=5;\n",
    "      } else {\n",
    "        if(bal[i].radius > bal[i].startradius){\n",
    "          bal[i].radius += -5;\n",
    "        }\n",
    "      }\n",
    "\n",
    "    //forloop end\n",
    "    }\n",
    "//animation end\n",
    "}\n",
    "\n",
    "animate();\n",
    "\n",
    "setInterval(function() {\n",
    "  bal.push(new Ball());\n",
    "  bal.splice(0, 1);\n",
    "}, 400);\n",
    "\n",
    "''',\n",
    "# plain text\n",
    "            '''World War II or the Second World War, often abbreviated as WWII or WW2, was a global conflict lasted from 1939 to 1945. The vast majority of the world's countries, including all of the great powers, fought as part of two opposing military alliances: the Allies and the Axis. Many participants threw their economic, industrial, and scientific capabilities behind this total war, blurring the distinction between civilian and military resources. Aircraft played a major role, enabling the strategic bombing of population centres and the delivery of the only two nuclear weapons ever used in war. World War II was by far the deadliest conflict in history, resulting in an estimated 70 to 85 million fatalities, mostly among civilians. Tens of millions died due to genocides (including the Holocaust), starvation, massacres, and disease. In the wake of the Axis defeat, Germany and Japan were occupied, and war crimes tribunals were conducted against German and Japanese leaders.'''\n",
    "            ]\n",
    "example_counts = vectorizer.transform(examples)\n",
    "predictions = classifier.predict(example_counts)\n",
    "predictions"
   ]
  },
  {
   "cell_type": "markdown",
   "metadata": {},
   "source": [
    "## Activity"
   ]
  },
  {
   "cell_type": "markdown",
   "metadata": {},
   "source": [
    "Our data set is small, so our spam classifier isn't actually very good. Try running some different test emails through it and see if you get the results you expect.\n",
    "\n",
    "TODO If you really want to challenge yourself, try applying train/test to this spam classifier - see how well it can predict some subset of the ham and spam emails."
   ]
  },
  {
   "cell_type": "code",
   "execution_count": null,
   "metadata": {},
   "outputs": [],
   "source": []
  }
 ],
 "metadata": {
  "kernelspec": {
   "display_name": "Python 3 (ipykernel)",
   "language": "python",
   "name": "python3"
  },
  "language_info": {
   "codemirror_mode": {
    "name": "ipython",
    "version": 3
   },
   "file_extension": ".py",
   "mimetype": "text/x-python",
   "name": "python",
   "nbconvert_exporter": "python",
   "pygments_lexer": "ipython3",
   "version": "3.8.5"
  }
 },
 "nbformat": 4,
 "nbformat_minor": 1
}
